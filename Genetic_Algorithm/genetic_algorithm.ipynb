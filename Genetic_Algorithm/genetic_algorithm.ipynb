{
 "cells": [
  {
   "cell_type": "markdown",
   "id": "9e7d8ef2-3fab-4448-aac9-421ae808a9a3",
   "metadata": {},
   "source": [
    "# Genetic Algorithm Approach\n",
    "\n",
    "In this task, we will implement a **genetic algorithm (GA)**—a nature-inspired optimization technique modeled on the principles of natural selection and genetics. This algorithm iteratively evolves a population of candidate solutions toward an optimal or near-optimal solution for a given problem.\n",
    "\n",
    "The process involves generating **offspring through recombination (crossover)** of the fittest individuals from the current generation. These offspring then undergo **mutation**, introducing genetic diversity and helping the algorithm avoid local optima.\n",
    "\n",
    "This evolutionary cycle of **selection**, **recombination**, and **mutation** continues over multiple generations until convergence criteria are met—such as reaching a satisfactory fitness level or a maximum number of generations.\n",
    "\n",
    "We begin by importing the necessary libraries."
   ]
  },
  {
   "cell_type": "code",
   "execution_count": 57,
   "id": "6daddd8b-ebb8-4c93-8ab0-389ec7b3a452",
   "metadata": {},
   "outputs": [],
   "source": [
    "import random\n",
    "import numpy as np"
   ]
  },
  {
   "cell_type": "markdown",
   "id": "59a293b5-d4c2-45d0-a02e-fe92cd90423f",
   "metadata": {},
   "source": [
    "Before executing the genetic algorithm, we need to define several key parameters that govern the behavior and performance of the evolutionary process. These parameters control how the population evolves over time and directly affect the convergence speed and quality of the final solution."
   ]
  },
  {
   "cell_type": "code",
   "execution_count": 127,
   "id": "80b82315-d29e-4044-a7cd-4eef41930a96",
   "metadata": {},
   "outputs": [],
   "source": [
    "mu = 5 # number of parents\n",
    "lambd = 600  # number of offspring\n",
    "num_generations = 2000 # number of generations"
   ]
  },
  {
   "cell_type": "markdown",
   "id": "6485c3cd-c8a7-4ed5-acc6-8ec3834ca2b4",
   "metadata": {},
   "source": [
    "The next step is to define the matrix that we are going to study, we are going to prove the algorithm with two case: one with 26 cities an other with 42."
   ]
  },
  {
   "cell_type": "code",
   "execution_count": null,
   "id": "0417e4fa-939d-4607-9d7c-d727887a67de",
   "metadata": {},
   "outputs": [],
   "source": [
    "with open('data/fri26_d.txt') as f:\n",
    "    tsp_26 = [[int(num) for num in line.split()] for line in f]\n",
    "# Best solution: 937\n",
    "\n",
    "with open('data/dantzig42_d.txt') as f:\n",
    "    tsp_42 = [[int(num) for num in line.split()] for line in f]\n",
    "# Best solution: 10628"
   ]
  },
  {
   "cell_type": "markdown",
   "id": "847fe1ce-055e-4ac9-82e9-a80b77e70abe",
   "metadata": {},
   "source": [
    "## Generating an Initial Random Solution\n",
    "\n",
    "To begin solving the Traveling Salesman Problem (TSP) using a genetic algorithm, we first need a way to generate an initial population of candidate solutions. Each solution represents a unique route that visits every city exactly once.\n",
    "\n",
    "The `randomSolution` function provides this capability by producing a valid, randomly ordered list of cities—essentially a permutation of all the cities in the problem instance."
   ]
  },
  {
   "cell_type": "code",
   "execution_count": null,
   "id": "1e1bff44-63a3-4a5c-93d8-2a81971d499e",
   "metadata": {},
   "outputs": [],
   "source": [
    "def randomSolution(tsp):\n",
    "    \"\"\"\n",
    "    Generate a random solution for the Traveling Salesman Problem (TSP).\n",
    "    \n",
    "    This function creates a random permutation of the cities, representing\n",
    "    a potential route that visits each city exactly once.\n",
    "    \n",
    "    Parameters:\n",
    "    tsp (list): The distance matrix representing the TSP instance.\n",
    "    \n",
    "    Returns:\n",
    "    list: A randomly ordered list of city indices representing a route.\n",
    "    \"\"\"\n",
    "    solution = random.sample(range(len(tsp)), len(tsp))\n",
    "    return solution"
   ]
  },
  {
   "cell_type": "markdown",
   "id": "ed284d75-073e-46fe-865b-97d71a36ce93",
   "metadata": {},
   "source": [
    "## Evaluating a Solution: Route Length Calculation\n",
    "\n",
    "Once we generate a potential solution to the Traveling Salesman Problem (TSP), we need a way to evaluate its quality. The `routeLength` function calculates the **total distance** of a given path (solution), which serves as the **fitness** of that solution in the context of the genetic algorithm."
   ]
  },
  {
   "cell_type": "code",
   "execution_count": null,
   "id": "b71e3806-6e9a-48b5-a05f-a98dc56b6346",
   "metadata": {},
   "outputs": [],
   "source": [
    "def routeLength(tsp, solution):\n",
    "    \"\"\"\n",
    "    Calculate the total distance of a given route (solution) for the Traveling Salesman Problem (TSP).\n",
    "\n",
    "    Parameters:\n",
    "    tsp (list): The distance matrix representing the TSP instance.\n",
    "    solution (list): A list of city indices representing a route.\n",
    "\n",
    "    Returns:\n",
    "    int: The total distance of the route.\n",
    "    \"\"\"\n",
    "    routeLength = 0\n",
    "    for i in range(len(solution)):\n",
    "        routeLength += tsp[solution[i-1]][solution[i]]\n",
    "    return routeLength"
   ]
  },
  {
   "cell_type": "markdown",
   "id": "b117cb7c-a25e-477b-a9a4-68ea040943c9",
   "metadata": {},
   "source": [
    "## Mutation Operator: 2-Opt Swap\n",
    "\n",
    "Mutation is a key operator in genetic algorithms that helps maintain genetic diversity within the population, allowing the algorithm to explore new parts of the solution space and avoid premature convergence.\n",
    "\n",
    "In the context of the Traveling Salesman Problem (TSP), one effective mutation technique is the **2-opt swap**. This operation selects two indices in the route and reverses the order of the cities between them, producing a new, slightly modified solution."
   ]
  },
  {
   "cell_type": "code",
   "execution_count": null,
   "id": "c3276262-ba5c-4906-bc34-14b2b33bde20",
   "metadata": {},
   "outputs": [],
   "source": [
    "def mutation(route):\n",
    "    \"\"\"\n",
    "    Perform a 2-opt mutation on a given route.\n",
    "\n",
    "    This function selects two random indices in the route and reverses the order\n",
    "    of the cities between them, creating a new, slightly modified route.\n",
    "\n",
    "    Parameters:\n",
    "    route (list): A list of city indices representing a route.\n",
    "\n",
    "    Returns:\n",
    "    list: A new route with the 2-opt mutation applied.\n",
    "    \"\"\"\n",
    "    route_list = list(route)\n",
    "    i, k = np.random.randint(0, len(route), size = 2)\n",
    "    if i > k:\n",
    "        i, k = k, i\n",
    "        \n",
    "    new_route = route_list[:i] + route_list[i:k+1][::-1] + route_list[k+1:]\n",
    "    return new_route"
   ]
  },
  {
   "cell_type": "markdown",
   "id": "abc98e58-6bc0-486e-9612-2eedf5a37091",
   "metadata": {},
   "source": [
    "## Crossover Operator: Order Crossover (OX)\n",
    "\n",
    "In genetic algorithms, the **crossover (recombination)** operation is a fundamental step used to combine the genetic information of two parent solutions to generate new offspring. This operator enables the algorithm to explore the solution space by mixing features of high-performing individuals.\n",
    "\n",
    "For the **Traveling Salesman Problem (TSP)**, where each solution is a permutation of cities, standard crossover methods are not suitable because they can produce invalid offspring (e.g., with repeated cities). To solve this, we use a permutation-preserving crossover method.\n",
    "\n",
    "### Order Crossover (OX) — Proposed by Davis\n",
    "\n",
    "The **Order Crossover (OX)** operator preserves the relative order and position of cities from both parents. It works as follows:\n",
    "\n",
    "1. Select a subsequence (subtour) randomly from one parent.\n",
    "2. Copy it into the corresponding position in the offspring.\n",
    "3. Fill the remaining positions with the genes (cities) from the other parent in the order they appear, skipping those already present.\n"
   ]
  },
  {
   "cell_type": "code",
   "execution_count": null,
   "id": "5187cf62-9d47-42fc-b319-76b85d30f4cf",
   "metadata": {},
   "outputs": [],
   "source": [
    "def recombine(parent1, parent2):\n",
    "    \"\"\"\n",
    "    Perform Order Crossover (OX) on two parent solutions.\n",
    "\n",
    "    This function implements the Order Crossover (OX) operator, which is used in genetic algorithms\n",
    "    to combine two parent solutions into two offspring while preserving the relative order of genes.\n",
    "\n",
    "    Parameters:\n",
    "    parent1 (list): The first parent solution, represented as a list of city indices.\n",
    "    parent2 (list): The second parent solution, represented as a list of city indices.\n",
    "\n",
    "    Returns:\n",
    "    tuple: A tuple containing two offspring solutions (child1, child2), each represented as a list of city indices.\n",
    "    \"\"\"\n",
    "    length = len(parent1)  # Obtener la longitud de los padres\n",
    "    \n",
    "    # Seleccionar dos puntos de corte aleatorios\n",
    "    point1 = random.randint(0, length - 1)\n",
    "    point2 = random.randint(0, length - 1)\n",
    "    \n",
    "    # Asegurarse de que point1 sea menor que point2\n",
    "    if point1 > point2:\n",
    "        point1, point2 = point2, point1\n",
    "    \n",
    "    # Crear los hijos\n",
    "    child1 = [-1] * length\n",
    "    child2 = [-1] * length\n",
    "    \n",
    "    # Copiar el segmento seleccionado del padre 1 a los hijos\n",
    "    child1[point1:point2+1] = parent1[point1:point2+1]\n",
    "    child2[point1:point2+1] = parent2[point1:point2+1]\n",
    "    \n",
    "    # Obtener los genes faltantes en los hijos preservando el orden relativo\n",
    "    genes_left1 = [gene for gene in parent2 if gene not in child1]\n",
    "    genes_left2 = [gene for gene in parent1 if gene not in child2]\n",
    "    \n",
    "    # Rellenar los genes faltantes en los hijos con los genes restantes\n",
    "    index1 = (point2 + 1) % length\n",
    "    index2 = (point2 + 1) % length\n",
    "    \n",
    "    for _ in range(length - (point2 - point1 + 1)):\n",
    "        if child1[index1] == -1:\n",
    "            child1[index1] = genes_left1.pop(0)\n",
    "        if child2[index2] == -1:\n",
    "            child2[index2] = genes_left2.pop(0)\n",
    "        index1 = (index1 + 1) % length\n",
    "        index2 = (index2 + 1) % length\n",
    "    \n",
    "    return child1, child2"
   ]
  },
  {
   "cell_type": "markdown",
   "id": "6c0155d5-ae83-4925-95c3-cd53fff2336f",
   "metadata": {},
   "source": [
    "## Main Evolutionary Process\n",
    "\n",
    "The `calculate_optim` function is the core of the genetic algorithm implementation for solving the **Traveling Salesman Problem (TSP)**. It orchestrates the evolutionary process over multiple generations, applying **selection**, **crossover**, and **mutation** to evolve a population of candidate solutions toward an optimal tour.\n",
    "\n",
    "This function requires:\n",
    "- A **distance matrix** (`tsp`) representing the pairwise distances between cities.\n",
    "- Predefined global parameters:\n",
    "  - `mu`: number of parents selected.\n",
    "  - `lambd`: number of offspring generated.\n",
    "  - `num_generations`: total number of generations to evolve."
   ]
  },
  {
   "cell_type": "code",
   "execution_count": null,
   "id": "5e7354a6-12d3-4ad6-9785-6bdec2b9e41b",
   "metadata": {},
   "outputs": [],
   "source": [
    "def calculate_optim(tsp):\n",
    "    \"\"\"\n",
    "        Perform optimization using a genetic algorithm to solve the Traveling Salesman Problem (TSP).\n",
    "\n",
    "        This function evolves a population of candidate solutions over multiple generations\n",
    "        using selection, crossover, and mutation to find an optimal or near-optimal solution.\n",
    "\n",
    "        Parameters:\n",
    "        tsp (list): The distance matrix representing the TSP instance.\n",
    "\n",
    "        Returns:\n",
    "        tuple: A tuple containing the best solution (list of city indices) and its total distance (int).\n",
    "    \"\"\"\n",
    "    Best = []\n",
    "    P = np.array([randomSolution(tsp) for i in range(lambd)])\n",
    "\n",
    "    for generation in range(num_generations):\n",
    "        child_distances = []\n",
    "\n",
    "        for children in P:\n",
    "            children_distance = routeLength(tsp, children)\n",
    "            child_distances.append(children_distance)\n",
    "\n",
    "            if len(Best)==0 or children_distance < routeLength(tsp, Best) :\n",
    "                Best = children\n",
    "\n",
    "        # Order the distances and extract the indexes   \n",
    "        tuple_distances = [(value, index) for index, value in enumerate(child_distances)]\n",
    "        tuple_distances_ordered = sorted(tuple_distances, key=lambda x:x[0])\n",
    "        indexes = [index for value, index in tuple_distances_ordered]\n",
    "\n",
    "        # Select the best mu individuals\n",
    "        Q = P[indexes[:2*mu]]\n",
    "\n",
    "        # Create the new generation\n",
    "        P = np.empty((2*lambd, len(tsp)), dtype=int)\n",
    "        aux = 0\n",
    "        for i in range(mu):\n",
    "            for j in range(lambd // mu):\n",
    "                parent1 = np.copy(Q[i])\n",
    "                parent2 = np.copy(Q[i+mu])\n",
    "                child1, child2 = recombine(parent1, parent2)\n",
    "                child1 = mutation(child1)\n",
    "                P[aux] = child1\n",
    "                aux += 1\n",
    "                child2 = mutation(child2)\n",
    "                P[aux] = child2\n",
    "                aux += 1    \n",
    "    \n",
    "    best_length = routeLength(tsp, Best)\n",
    "    \n",
    "    return Best, best_length"
   ]
  },
  {
   "cell_type": "markdown",
   "id": "d2b33871-999e-4006-be71-1d8da53e505c",
   "metadata": {},
   "source": [
    "First, we prove the algorithm with the 26 cities problem."
   ]
  },
  {
   "cell_type": "code",
   "execution_count": 128,
   "id": "36f65f1b-788a-43c8-b7a2-a3b70c73f2cd",
   "metadata": {},
   "outputs": [
    {
     "name": "stdout",
     "output_type": "stream",
     "text": [
      "Best:  [12 11 10 15 18 19 17 16 20 21 25 22 23 24  0  1  2  3  5  4  6  7  8  9\n",
      " 13 14]\n",
      "Best Final distance:  937\n"
     ]
    }
   ],
   "source": [
    "Best, best_length = calculate_optim(tsp_26)\n",
    "\n",
    "print(\"Best: \", Best)\n",
    "print(\"Best Final distance: \", best_length)\n",
    "\n",
    "# Best solution found: 937\n",
    "# Best solution: 937"
   ]
  },
  {
   "cell_type": "markdown",
   "id": "710bc3de-e985-48d5-979b-0444702b850b",
   "metadata": {},
   "source": [
    "Now, with the 42 cities problem."
   ]
  },
  {
   "cell_type": "code",
   "execution_count": 129,
   "id": "7215e5fe-659b-43c8-8ed6-320ad8cf640d",
   "metadata": {},
   "outputs": [
    {
     "name": "stdout",
     "output_type": "stream",
     "text": [
      "Best:  [ 0 41 40 39 38 37 36 35 34 33 32 31 30 29 28 27 26 25 24 23 22 21 20 19\n",
      " 18 17 16 15 14 13 12 11 10  9  8  7  6  5  4  3  2  1]\n",
      "Best Final distance:  699\n"
     ]
    }
   ],
   "source": [
    "Best, best_length = calculate_optim(tsp_42)\n",
    "\n",
    "print(\"Best: \", Best)\n",
    "print(\"Best Final distance: \", best_length)\n",
    "\n",
    "# Best solution found: 699\n",
    "# Best solution: 699"
   ]
  },
  {
   "cell_type": "markdown",
   "id": "f84b001e-f1cd-48d0-8686-3c73add45d72",
   "metadata": {},
   "source": [
    "## Summary\n",
    "\n",
    "The results demonstrate that the genetic algorithm effectively finds optimal solutions across both test cases, regardless of the problem size. \n",
    "\n",
    "- **Case 1 (26 cities):**  \n",
    "  The algorithm successfully identified the optimal route in a relatively short time. Interestingly, the `(μ, λ)` strategy without recombination converged faster in this smaller instance, indicating that recombination might not always be necessary for simpler problems.\n",
    "\n",
    "- **Case 2 (42 cities):**  \n",
    "  The algorithm also reached the optimal solution in this larger instance, showcasing the strength of the recombination operator. The inclusion of crossover (specifically, the Order Crossover method) played a crucial role in enhancing the search capability for this more complex scenario.\n",
    "\n",
    "These observations underline the importance of **parameter tuning**. Adjusting the values of `λ` (offspring size), `μ` (number of parents), and the number of generations is essential to balance **exploration** and **exploitation** within the algorithm. Proper tuning can significantly impact convergence speed and solution quality.\n",
    "\n",
    "---\n",
    "\n",
    "### Importance of Recombination Before Mutation\n",
    "\n",
    "Applying recombination before mutation in a genetic algorithm brings several key advantages:\n",
    "\n",
    "1. **Enhanced Exploration of the Search Space:**  \n",
    "   Recombination combines valuable traits from different individuals, generating offspring that may inherit the strengths of both parents. This promotes diversity in the population and helps avoid premature convergence to local optima.\n",
    "\n",
    "2. **Preservation of Useful Genetic Information:**  \n",
    "   Without recombination, mutation alone might randomly disrupt beneficial traits. Recombination allows these features to be retained and reused in the evolutionary process, ensuring that high-quality genetic material is not lost.\n",
    "\n",
    "3. **Faster Convergence to Optimal Solutions:**  \n",
    "   By producing new individuals with promising genetic combinations, recombination can speed up the search process. It increases the likelihood of generating high-quality solutions early, reducing the number of generations needed to converge.\n",
    "\n",
    "---\n",
    "\n",
    "### Conclusion\n",
    "\n",
    "The **order of genetic operators** is crucial for the performance of evolutionary algorithms. Applying **recombination before mutation** enables:\n",
    "- Better search space coverage\n",
    "- Preservation of advantageous structures\n",
    "- Faster and more reliable convergence\n",
    "\n",
    "These effects contribute to a more robust and efficient genetic algorithm capable of solving complex combinatorial problems like the Traveling Salesman Problem.\n"
   ]
  }
 ],
 "metadata": {
  "kernelspec": {
   "display_name": "Python 3 (ipykernel)",
   "language": "python",
   "name": "python3"
  },
  "language_info": {
   "codemirror_mode": {
    "name": "ipython",
    "version": 3
   },
   "file_extension": ".py",
   "mimetype": "text/x-python",
   "name": "python",
   "nbconvert_exporter": "python",
   "pygments_lexer": "ipython3",
   "version": "3.10.6"
  }
 },
 "nbformat": 4,
 "nbformat_minor": 5
}
