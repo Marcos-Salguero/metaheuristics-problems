{
 "cells": [
  {
   "cell_type": "markdown",
   "id": "ef3b243d",
   "metadata": {},
   "source": [
    "# Quadratic Assignment Problem (QAP)\n",
    "\n",
    "In this project, we address the **Quadratic Assignment Problem (QAP)**, a classic and computationally challenging combinatorial optimization problem. QAP arises in various real-world scenarios, such as facility layout design, scheduling, and electronics design, where a set of facilities must be assigned to a set of locations in a way that minimizes the total cost, typically based on the distance and flow between the facilities.\n",
    "\n",
    "We aim to solve QAP instances by implementing and evaluating a variety of **Local Search** and **Population-Based Search** algorithms. The solution process begins with algorithm development and is followed by experimental analysis using both small-scale and larger, more complex problem instances.\n",
    "\n",
    "## Algorithms Implemented\n",
    "\n",
    "The following families of metaheuristic algorithms will be implemented:\n",
    "\n",
    "### Local Search Methods\n",
    "\n",
    "These algorithms iteratively explore the solution space by making small, localized changes to the current solution.\n",
    "\n",
    "- **First Improvement**  \n",
    "  Performs a neighborhood search and accepts the first neighboring solution that improves the current objective value.\n",
    "\n",
    "- **Best Improvement**  \n",
    "  Explores all neighboring solutions and selects the one with the best improvement (or least deterioration, in case of local optima escape).\n",
    "\n",
    "- **Tabu Search**  \n",
    "  Enhances local search by using memory structures that describe the visited solutions or user-defined attributes, in order to avoid cycles and encourage exploration of new areas.\n",
    "\n",
    "### Population-Based Search Methods\n",
    "\n",
    "These methods maintain and evolve a population of candidate solutions over time, typically offering greater exploration capabilities than local search.\n",
    "\n",
    "- **Ant Colony Optimization (ACO)**  \n",
    "  A probabilistic technique inspired by the foraging behavior of ants. It uses pheromone trails to guide the search towards promising regions of the solution space.\n",
    "\n",
    "- **(μ + λ) Evolutionary Algorithm**  \n",
    "  A type of evolutionary strategy where μ parents generate λ offspring through variation operators (mutation, crossover), and the next generation is selected from the combined pool of parents and offspring.\n",
    "\n",
    "## Initial Setup\n",
    "\n",
    "To begin, we load all the required libraries and modules necessary for the implementation of these algorithms. This includes standard libraries for numerical computation, data handling, and optimization, as well as custom modules for QAP-specific operations.\n"
   ]
  },
  {
   "cell_type": "code",
   "execution_count": 3,
   "id": "e16edbc3-befb-47b1-85e8-b8a55a69ede8",
   "metadata": {},
   "outputs": [],
   "source": [
    "import numpy as np\n",
    "import random"
   ]
  },
  {
   "cell_type": "markdown",
   "id": "750cb46a-7ee6-4395-983b-f1589b538473",
   "metadata": {},
   "source": [
    "## Problem Instance: 9-City Case\n",
    "\n",
    "To begin our experimentation, we will use a simplified instance of the Quadratic Assignment Problem involving **9 cities**. This small-scale case provides a manageable context for developing, debugging, and evaluating the performance of our algorithms before scaling to larger instances.\n",
    "\n",
    "### Data Description\n",
    "\n",
    "We define two key matrices that model the problem:\n",
    "\n",
    "- **Cost Matrix (`qap_costs_9`)**  \n",
    "  This matrix represents the cost associated with traveling from one city to another. Each entry `C[i][j]` indicates the cost incurred when assigning facility `i` to location `j`. These costs may encapsulate factors such as resource usage, traffic load, or economic penalties.\n",
    "\n",
    "- **Distance Matrix (`qap_distances_9`)**  \n",
    "  This matrix encodes the physical or logical distances between locations. Each element `D[i][j]` specifies the distance between location `i` and location `j`. In real-world analogs, this could reflect geographic distances, travel times, or network latencies.\n",
    "\n",
    "### Objective\n",
    "\n",
    "The goal of the QAP is to determine an optimal assignment of facilities (cities) to locations that **minimizes the total cost**, which is calculated as the sum of the products of corresponding entries in the cost and distance matrices. Formally, the objective function is:\n",
    "\n",
    "$$\n",
    "\\text{Minimize} \\quad \\sum_{i=1}^{n} \\sum_{j=1}^{n} C_{i,j} \\cdot D_{\\pi(i), \\pi(j)}\n",
    "$$\n",
    "\n",
    "Where:\n",
    "\n",
    "- $C_{i,j}$ is the flow (or cost) between facility $i$ and facility $j$.\n",
    "- $D_{\\pi(i), \\pi(j)}$ is the distance between the locations assigned to facilities $i$ and $j$.\n",
    "- $\\pi$ is a permutation of the set $\\{1, 2, \\ldots, n\\}$ representing an assignment of facilities to locations.\n",
    "\n",
    "This instance requires finding a permutation of the 9 cities such that the total weighted cost, combining both the flow and the distance, is minimized while visiting all cities exactly once."
   ]
  },
  {
   "cell_type": "code",
   "execution_count": 4,
   "id": "1b8a8df1-5532-4a58-8183-d5f766661b5b",
   "metadata": {},
   "outputs": [],
   "source": [
    "qap_cost_9 =  [\n",
    "    [0, 21, 95, 82, 56, 41, 6, 25, 10], \n",
    "    [21, 0, 4, 63, 6, 44, 40, 75, 79],\n",
    "    [95, 4, 0, 0, 89, 35, 9, 1, 85], \n",
    "    [82, 63, 0, 0, 84, 12, 0, 26, 91], \n",
    "    [56, 6, 89, 84, 0, 11, 35, 82, 26], \n",
    "    [41, 44, 35, 12, 11, 0, 69, 56, 86], \n",
    "    [6, 40, 9, 0, 35, 69, 0, 45, 91], \n",
    "    [25, 75, 1, 26, 82, 56, 45, 0, 59], \n",
    "    [10, 79, 85, 91, 26, 86, 91, 59, 0]\n",
    "]\n",
    "\n",
    "qap_distances_9 = [\n",
    "    [0, 18, 76, 39, 18, 57, 36, 61, 36], \n",
    "    [18, 0, 21, 71, 11, 29, 82, 82, 6], \n",
    "    [76, 21, 0, 71, 8, 77, 74, 30, 89], \n",
    "    [39, 71, 71, 0, 76, 76, 40, 93, 56], \n",
    "    [18, 11, 8, 76, 0, 1, 50, 4, 36], \n",
    "    [57, 29, 77, 76, 1, 0, 27, 85, 2], \n",
    "    [36, 82, 74, 40, 50, 27, 0, 1, 15], \n",
    "    [61, 82, 30, 93, 4, 8, 1, 0, 11], \n",
    "    [36, 6, 89, 56, 36, 2, 15, 11, 0]\n",
    "]\n",
    "\n",
    "# Best solution: 94622"
   ]
  },
  {
   "cell_type": "markdown",
   "id": "1d4859bd-7b8b-4fa3-aa90-9b94188ff6ee",
   "metadata": {},
   "source": [
    "## Loading the 35-City QAP Data\n",
    "\n",
    "For the larger problem instance involving **35 cities**, we load the corresponding **cost** and **distance** matrices from text files. These files contain space-separated integers, where each line corresponds to a row of the matrix.\n",
    "\n",
    "To facilitate the loading process, we define a concise function that reads and parses the data into a 2D list (i.e., a matrix) of integers."
   ]
  },
  {
   "cell_type": "code",
   "execution_count": null,
   "id": "1bfda782-cb10-48bf-99e6-4a35c5a78dbf",
   "metadata": {},
   "outputs": [],
   "source": [
    "# Load cost and distance matrices for the 35-city problem instance\n",
    "with open('qap_cost_35.txt') as f:\n",
    "    qap_cost_35 = [[int(num) for num in line.split()] for line in f]\n",
    "\n",
    "with open('qap_dist_35.txt') as f:\n",
    "    qap_distances_35 = [[int(num) for num in line.split()] for line in f]\n",
    "    \n",
    "# Best solution: 2422002"
   ]
  },
  {
   "cell_type": "markdown",
   "id": "1ed9d847-73cf-45fc-8946-8fb4ead3f76e",
   "metadata": {},
   "source": [
    "### Common Utility Functions\n",
    "\n",
    "Before implementing specific algorithms, we begin by defining several **utility functions** that are shared across all methods. These common functions help modularize the code and promote reusability and clarity.\n",
    "\n",
    "#### Generating a Random Initial Solution\n",
    "\n",
    "One of the fundamental operations in metaheuristic algorithms is the generation of an initial candidate solution. The function `randomSolution` accomplishes this by creating a random permutation of city indices, representing a valid solution to the QAP.\n",
    "\n",
    "This random starting point is especially useful for stochastic algorithms like Local Search or Evolutionary Strategies, where diversity in starting conditions can improve solution quality.\n"
   ]
  },
  {
   "cell_type": "code",
   "execution_count": null,
   "id": "5558dcd2-b249-4c5b-99a7-023f21a708ba",
   "metadata": {},
   "outputs": [],
   "source": [
    "def randomSolution(qap_cost, seed=None):\n",
    "    \"\"\"\n",
    "    Generates a random solution (permutation) for the QAP problem.\n",
    "\n",
    "    Parameters:\n",
    "    - qap_cost: 2D list (cost matrix), used to determine the number of cities.\n",
    "    - seed: Optional integer to set the random seed for reproducibility.\n",
    "\n",
    "    Returns:\n",
    "    - A list representing a random permutation of city indices.\n",
    "    \"\"\"\n",
    "    if seed is not None:\n",
    "        random.seed(seed)\n",
    "    solution = list(range(len(qap_cost[0])))\n",
    "    random.shuffle(solution)\n",
    "    return solution"
   ]
  },
  {
   "cell_type": "markdown",
   "id": "d1d71861-508c-492f-afaf-ad734fd15299",
   "metadata": {},
   "source": [
    "#### Evaluating a Solution: `calculateCost`\n",
    "\n",
    "Once a solution (i.e., a permutation of cities or facilities) is generated, we need a way to **evaluate its quality**. The `calculateCost` function computes the **total cost** associated with a specific assignment by summing the weighted interactions between all pairs of facilities.\n",
    "\n",
    "#### Description\n",
    "\n",
    "The objective function of the Quadratic Assignment Problem is based on two components:\n",
    "\n",
    "- **Flow matrix (`qap_cost`)**: Represents the flow or cost between facility pairs.\n",
    "- **Distance matrix (`qap_distances`)**: Represents the distance between location pairs.\n",
    "\n",
    "The function multiplies the flow between each pair of facilities by the distance between the locations assigned to them and sums over all pairs."
   ]
  },
  {
   "cell_type": "code",
   "execution_count": null,
   "id": "01e91e64-f64c-4f68-bfa1-d0d404f54048",
   "metadata": {},
   "outputs": [],
   "source": [
    "def calculateCost(qap_cost, qap_distances, solution):\n",
    "    \"\"\"\n",
    "    Computes the total cost of a given solution to the QAP.\n",
    "\n",
    "    Parameters:\n",
    "    - qap_cost: 2D list, flow/cost matrix between facilities.\n",
    "    - qap_distances: 2D list, distance matrix between locations.\n",
    "    - solution: List[int], a permutation representing facility-to-location assignments.\n",
    "\n",
    "    Returns:\n",
    "    - Integer representing the total cost of the solution.\n",
    "    \"\"\"\n",
    "    cost = 0\n",
    "    n = len(solution)\n",
    "    for i in range(n):\n",
    "        for j in range(n):\n",
    "            cost += qap_cost[i][j] * qap_distances[solution[i]][solution[j]]\n",
    "    return cost"
   ]
  },
  {
   "cell_type": "markdown",
   "id": "08448953-851e-45ee-922a-bdabdeb1fa9e",
   "metadata": {},
   "source": [
    "#### Generating a Neighboring Solution: `two_opt_swap`\n",
    "\n",
    "One common operation in optimization algorithms, particularly in local search methods, is to explore neighboring solutions by making small changes to the current solution. The **2-opt swap** is a widely used technique in routing problems, where the goal is to improve the current solution by reversing a portion of the path. This method is especially effective in problems like the **Traveling Salesman Problem (TSP)** or **Quadratic Assignment Problem (QAP)**.\n",
    "\n",
    "#### Description\n",
    "\n",
    "The `two_opt_swap` function takes a given route (solution) and reverses the order of cities (nodes) between two indices, `i` and `k`. This operation generates a new solution that can potentially lead to a better cost when evaluated by the objective function."
   ]
  },
  {
   "cell_type": "code",
   "execution_count": null,
   "id": "53f36828-30ba-4db1-8dc2-eb32f928ad11",
   "metadata": {},
   "outputs": [],
   "source": [
    "def two_opt_swap(route, i, k):\n",
    "    \"\"\"\n",
    "    Perform a 2-opt swap on the given route by reversing the\n",
    "    order of the nodes between indices i and k (inclusive).\n",
    "    \n",
    "    Parameters:\n",
    "    - route: List[int], a permutation of city indices representing the current solution.\n",
    "    - i: Integer, the starting index of the segment to reverse.\n",
    "    - k: Integer, the ending index of the segment to reverse.\n",
    "    \n",
    "    Returns:\n",
    "    - new_route: List[int], a new solution where the order of cities between i and k is reversed.\n",
    "    \"\"\"\n",
    "    new_route = route.copy()\n",
    "    new_route[i:k+1] = reversed(route[i:k+1])\n",
    "    \n",
    "    return new_route"
   ]
  },
  {
   "cell_type": "markdown",
   "id": "c0d0d698-8a5c-4441-b656-2b207ebf5b5f",
   "metadata": {},
   "source": [
    "#### Generating Neighbors: `get_neighbors`\n",
    "\n",
    "In many optimization algorithms, it's essential to explore the **neighborhood** of a given solution to identify potential improvements. The `get_neighbors` function helps generate all neighboring solutions by applying specific transformations to the current solution. In this case, the transformation is a **2-opt swap**, which reverses segments of the solution.\n",
    "\n",
    "#### Description\n",
    "\n",
    "The `get_neighbors` function generates a list of all possible neighbors for a given path (solution). It iterates over all pairs of indices \\(i, j\\) in the path, and for each pair, it creates a new solution by reversing the portion of the path between indices \\(i\\) and \\(j\\). This forms the neighborhood of the current solution.\n"
   ]
  },
  {
   "cell_type": "code",
   "execution_count": null,
   "id": "5bd120c0-eaf6-431e-9645-a191ccb0f495",
   "metadata": {},
   "outputs": [],
   "source": [
    "def get_neighbors(path):\n",
    "    \"\"\"\n",
    "    Generates the neighbors of a given solution by performing all possible 2-opt swaps.\n",
    "    \n",
    "    Parameters:\n",
    "    - path: List[int], the current solution (a permutation of city indices).\n",
    "    \n",
    "    Returns:\n",
    "    - neighbors: List[List[int]], a list of neighbor solutions generated by 2-opt swaps.\n",
    "    \"\"\"\n",
    "    neighbors = []\n",
    "    for i in range(len(path)):\n",
    "        for j in range(i+1, len(path)):\n",
    "            neighbor = np.copy(path)\n",
    "            neighbor[i:j+1] = np.flip(neighbor[i:j+1])\n",
    "            neighbors.append(neighbor)\n",
    "    return neighbors"
   ]
  },
  {
   "cell_type": "markdown",
   "id": "f27e0c0b-bade-4f39-a1a8-306fb459107b",
   "metadata": {},
   "source": [
    "#### Selecting the Best Neighbor: `getBestNeighbour`\n",
    "\n",
    "In many local search algorithms, once a set of neighbors is generated, the next step is to evaluate them and select the best one. The `getBestNeighbour` function does exactly that: it evaluates all neighbors based on their cost and returns the one with the lowest cost.\n",
    "\n",
    "#### Description\n",
    "\n",
    "The function `getBestNeighbour` takes a list of neighbors and calculates the cost of each solution using the `calculateCost` function. It then returns the neighbor with the **minimum cost**. This is particularly useful for algorithms like **First Improvement** or **Best Improvement**, where the goal is to select the most promising neighbor to move to in the solution space."
   ]
  },
  {
   "cell_type": "code",
   "execution_count": null,
   "id": "e779eb87-cd3c-4b7c-9d42-250d571ae235",
   "metadata": {},
   "outputs": [],
   "source": [
    "def getBestNeighbour(qap_cost, qap_distances, neighbors):\n",
    "    \"\"\"\n",
    "    Selects the best neighbor from a list of neighbors by evaluating their cost.\n",
    "    \n",
    "    Parameters:\n",
    "    - qap_cost: 2D list (cost matrix), used to compute the total cost of the solution.\n",
    "    - qap_distances: 2D list (distance matrix), used to compute the total cost of the solution.\n",
    "    - neighbors: List[List[int]], a list of neighbor solutions (permutations of cities).\n",
    "    \n",
    "    Returns:\n",
    "    - Tuple containing:\n",
    "      - The best neighbor (List[int]): The solution with the minimum cost.\n",
    "      - The cost (float): The cost of the best neighbor.\n",
    "    \"\"\"\n",
    "    return min(((nb_solution, calculateCost(qap_cost, qap_distances, nb_solution)) for nb_solution in neighbors), key=lambda x: x[1])"
   ]
  },
  {
   "cell_type": "markdown",
   "id": "d80b1d45-927b-4972-b2ea-ef612b7c3da9",
   "metadata": {},
   "source": [
    "We have finished defining all the common function, so now we begin with the first algorithm, the `first improvement`.\n",
    "\n",
    "## First Improvement\n",
    "\n",
    "The **First Improvement** algorithm is a local search heuristic designed to explore the solution space efficiently by making incremental improvements to the current solution. Unlike exhaustive search methods that evaluate all possible solutions, First Improvement stops as soon as it finds the first solution that improves the current one. \n",
    "\n",
    "### Key Features\n",
    "- **Efficiency**: First Improvement is computationally more efficient than exhaustive search algorithms because it does not require evaluating every possible neighbor. As soon as a better solution is found, the search proceeds to that neighbor.\n",
    "- **Local Optima**: While this method is fast, it has the potential downside of getting stuck in **local optima**. Since the algorithm only considers the first improving neighbor, it may miss opportunities for a global optimum by not exploring the entire neighborhood.\n",
    "\n",
    "### Algorithm Overview\n",
    "1. **Initialization**: The algorithm begins with an initial solution, which could be a random solution or a starting heuristic.\n",
    "2. **Neighbor Exploration**: All possible neighbors of the current solution are generated.\n",
    "3. **Improvement Check**: The algorithm evaluates each neighbor and accepts the first one that results in an improvement (i.e., a lower cost).\n",
    "4. **Termination**: The process stops when no improving neighbor can be found, indicating that a local optimum has been reached.\n",
    "\n",
    "### Advantages\n",
    "- **Speed**: Since it halts as soon as a better solution is found, it is relatively fast compared to exhaustive search methods.\n",
    "- **Simplicity**: The algorithm is straightforward and easy to implement, making it a good starting point for more complex optimization techniques.\n",
    "\n",
    "### Disadvantages\n",
    "- **Local Optima**: The First Improvement algorithm may stop prematurely, leading to a solution that is only a local optimum and not the best possible global solution.\n",
    "- **Limited Exploration**: By focusing only on the first improvement found, the algorithm may overlook better solutions that require more exploration.\n",
    "\n",
    "### Example Scenario\n",
    "Consider a scenario where we are solving the **Quadratic Assignment Problem (QAP)**. If our current solution is `[0, 1, 2, 3, 4]` and we find a neighbor `[0, 2, 1, 3, 4]` that improves the total cost, the algorithm will accept this neighbor and stop searching further in that iteration. \n",
    "\n",
    "This strategy makes First Improvement a useful algorithm when **time efficiency** is more important than finding the absolute best solution. It can be particularly beneficial in **large-scale optimization problems**, where exhaustive search methods are not feasible due to time and computational limitations.\n",
    "\n",
    "### Use Case\n",
    "\n",
    "The First Improvement algorithm is widely used in optimization problems where finding an exact global optimum is not strictly necessary. It's commonly applied in:\n",
    "- **Quadratic Assignment Problem (QAP)**\n",
    "- **Traveling Salesman Problem (TSP)**\n",
    "- **Vehicle Routing Problem (VRP)**\n",
    "- **Job Shop Scheduling**"
   ]
  },
  {
   "cell_type": "code",
   "execution_count": null,
   "id": "7ebf778a-bc3d-4c2d-9ef7-1605c7a1a2c0",
   "metadata": {},
   "outputs": [],
   "source": [
    "def firstImprovement(qap_cost, qap_distances):\n",
    "    \"\"\"\n",
    "    Perform First Improvement local search to find a better solution for QAP.\n",
    "\n",
    "    Parameters:\n",
    "    - qap_cost: 2D list (cost matrix), representing the flow between facilities.\n",
    "    - qap_distances: 2D list (distance matrix), representing the distances between locations.\n",
    "\n",
    "    Returns:\n",
    "    - currentSolution: List[int], the best solution found.\n",
    "    - currentCost: float, the cost of the best solution.\n",
    "    \"\"\"\n",
    "    # Step 1: Generate an initial random solution\n",
    "    currentSolution = randomSolution(qap_cost)\n",
    "    currentCost = calculateCost(qap_cost, qap_distances, currentSolution)\n",
    "\n",
    "    while True:\n",
    "        bestNeighbour = None\n",
    "        bestNeighbourCost = float(\"inf\")\n",
    "        foundBetterNeighbor = False\n",
    "\n",
    "        # Step 2: Explore the neighbors of the current solution\n",
    "        for i in range(len(currentSolution)):\n",
    "            for j in range(i + 1, len(currentSolution)):\n",
    "                # Generate a new neighbor by performing a 2-opt swap\n",
    "                neighbour = two_opt_swap(currentSolution, i, j)\n",
    "                neighbourCost = calculateCost(qap_cost, qap_distances, neighbour)\n",
    "\n",
    "                # Step 3: Check if the neighbor improves the current solution\n",
    "                if neighbourCost < currentCost:\n",
    "                    bestNeighbour = neighbour\n",
    "                    bestNeighbourCost = neighbourCost\n",
    "                    foundBetterNeighbor = True\n",
    "                    break\n",
    "\n",
    "            if foundBetterNeighbor:\n",
    "                break\n",
    "\n",
    "        # Step 4: If no improvement, terminate the search\n",
    "        if bestNeighbour is None:\n",
    "            break\n",
    "\n",
    "        # Step 5: Move to the best improving neighbor and continue the search\n",
    "        currentSolution = bestNeighbour\n",
    "        currentCost = bestNeighbourCost\n",
    "\n",
    "    return currentSolution, currentCost"
   ]
  },
  {
   "cell_type": "markdown",
   "id": "f327e1df-3da8-45d2-84c9-e9e70e104054",
   "metadata": {},
   "source": [
    "## First Improvement with Multiple Iterations\n",
    "\n",
    "In order to obtain a high-quality solution, it is common to run the **First Improvement** algorithm multiple times. This is particularly useful because the algorithm's performance is highly sensitive to the initial solution, which is generated randomly. By executing the algorithm several times with different starting solutions, we increase the chances of finding the global optimum, or at least a much better local optimum.\n",
    "\n",
    "### Approach\n",
    "\n",
    "To improve the chances of finding a good solution, we will run the **First Improvement** algorithm for **1000 iterations**. Each time the algorithm is run, it starts with a new random solution. By comparing the best solution found across all iterations, we can ensure that the solution is closer to the optimal one."
   ]
  },
  {
   "cell_type": "code",
   "execution_count": null,
   "id": "6a615243-dfd6-43ab-bf18-8fd0653435f9",
   "metadata": {},
   "outputs": [
    {
     "data": {
      "text/plain": [
       "([8, 2, 5, 7, 6, 1, 0, 3, 4], 94622)"
      ]
     },
     "execution_count": 19,
     "metadata": {},
     "output_type": "execute_result"
    }
   ],
   "source": [
    "Cost = 100000000  # Initialize with a very large value to ensure we can improve upon it\n",
    "\n",
    "for i in range(1000):\n",
    "    # Run the First Improvement algorithm to find a better solution in each iteration\n",
    "    currentSolution, currentCost = firstImprovement(qap_cost_9, qap_distances_9)\n",
    "\n",
    "    # If the current solution is better, update the best solution found so far\n",
    "    if currentCost < Cost:\n",
    "        Solution, Cost = currentSolution, currentCost\n",
    "Solution, Cost\n",
    "\n",
    "# Best solution founded: 94622\n",
    "# Best solution: 94622"
   ]
  },
  {
   "cell_type": "markdown",
   "id": "60887df4-a4c3-4aa7-af37-ef7bab1786c2",
   "metadata": {},
   "source": [
    "## First Improvement with 20 Iterations for the 35-Cities Problem\n",
    "\n",
    "To evaluate the **First Improvement** algorithm for a larger problem instance, we apply it to the **35-cities problem**. Since this problem is significantly larger than the 9-cities case, running the algorithm for **1000 iterations** would be computationally expensive and time-consuming. Therefore, we reduce the number of iterations to **20**, which provides a good balance between solution quality and computational cost.\n",
    "\n",
    "### Approach\n",
    "\n",
    "For the 35-cities case, we use the same structure as before but reduce the number of iterations to 20 to avoid excessive computation. This approach allows us to quickly assess the performance of the algorithm while keeping the execution time manageable."
   ]
  },
  {
   "cell_type": "code",
   "execution_count": null,
   "id": "99177a43-f0ca-4b3d-a29d-1182eed31234",
   "metadata": {},
   "outputs": [
    {
     "data": {
      "text/plain": [
       "(array([ 7, 18, 34, 25, 33, 21, 11,  4, 30, 14,  6, 32,  1,  5, 23, 31, 22,\n",
       "        13, 28, 19, 16,  8, 17,  0, 10, 29,  9,  3, 24, 15, 12, 27,  2, 26,\n",
       "        20]),\n",
       " 2593408)"
      ]
     },
     "execution_count": 18,
     "metadata": {},
     "output_type": "execute_result"
    }
   ],
   "source": [
    "Cost = 100000000  # Initialize with a very large value to ensure improvement\n",
    "\n",
    "for i in range(20):\n",
    "    # Run the First Improvement algorithm for the 35-cities problem\n",
    "    currentSolution, currentCost = firstImprovement(qap_cost_35, qap_distances_35)\n",
    "\n",
    "    # If the current solution is better, update the best solution found so far\n",
    "    if currentCost < Cost:\n",
    "        Solution, Cost = currentSolution, currentCost\n",
    "        \n",
    "np.array(Solution).T, Cost\n",
    "\n",
    "# Best solution founded: 2593408\n",
    "# Best solution: 2422002"
   ]
  },
  {
   "cell_type": "markdown",
   "id": "502f2dd3-ef65-4791-b924-61e601d73bda",
   "metadata": {},
   "source": [
    "The low computational time, allows us to use the algorithm with a loop, and reach a great solution very fast.\n",
    "\n",
    "## Best Improvement\n",
    "\n",
    "**Best Improvement** is a technique that enhances local search in combinatorial optimization problems. Unlike **First Improvement**, which stops the search as soon as an improvement is found, **Best Improvement** explores the solution space more thoroughly. In each iteration, it searches for the **best possible improvement** among all available neighbors, which allows it to find solutions closer to the global optimum.\n",
    "\n",
    "This algorithm has a higher potential for finding a better solution compared to **First Improvement**, but it also requires more computational time due to the need to explore all possible neighbors before making an update.\n",
    "\n",
    "### How It Works\n",
    "\n",
    "1. **Initialization**:\n",
    "   - A random initial solution is generated.\n",
    "   - The cost of the solution is calculated.\n",
    "   - All neighbors of the current solution are generated.\n",
    "\n",
    "2. **Searching for the Best Improvement**:\n",
    "   - In each iteration, the algorithm explores all possible neighbors of the current solution.\n",
    "   - The cost of each neighbor is calculated, and the neighbor with the lowest cost is selected.\n",
    "\n",
    "3. **Iteration**:\n",
    "   - If the found neighbor has a lower cost than the current solution, the solution is updated with this better neighbor.\n",
    "   - The process repeats until no further improvements can be made."
   ]
  },
  {
   "cell_type": "code",
   "execution_count": null,
   "id": "a5008568-18be-416c-8aa8-5e9b277e3289",
   "metadata": {},
   "outputs": [],
   "source": [
    "def bestImprovement(qap_cost, qap_distances):\n",
    "    \"\"\"\n",
    "    Performs the Best Improvement local search algorithm to find an optimal solution for the QAP.\n",
    "\n",
    "    Parameters:\n",
    "    - qap_cost: 2D list (cost matrix), representing the flow between facilities.\n",
    "    - qap_distances: 2D list (distance matrix), representing the distances between locations.\n",
    "\n",
    "    Returns:\n",
    "    - currentSolution: List[int], the best solution found.\n",
    "    - currentCost: float, the cost of the best solution.\n",
    "    \"\"\"\n",
    "    currentSolution = randomSolution(qap_cost)\n",
    "    currentCost = calculateCost(qap_cost, qap_distances, currentSolution)\n",
    "    neighbors = get_neighbors(currentSolution)\n",
    "    bestNeighbour, bestNeighbourCost = getBestNeighbour(qap_cost, qap_distances, neighbors)\n",
    "\n",
    "    while bestNeighbourCost < currentCost:\n",
    "        currentSolution = bestNeighbour\n",
    "        currentCost = bestNeighbourCost\n",
    "        neighbors = get_neighbors(currentSolution)\n",
    "        bestNeighbour, bestNeighbourCost = getBestNeighbour(qap_cost, qap_distances, neighbors)\n",
    "\n",
    "    return currentSolution, currentCost"
   ]
  },
  {
   "cell_type": "markdown",
   "id": "ef8c7a84-40f0-40b3-9873-7aaa2fc7be70",
   "metadata": {},
   "source": [
    "As in the previous case, we use a loop to fin out the best possible solution, because with one iteration is difficult to reach the best one (it can get stuck in a local optimum)"
   ]
  },
  {
   "cell_type": "code",
   "execution_count": 16,
   "id": "424c649c-c54a-457b-ac36-265d5eb0b0e9",
   "metadata": {},
   "outputs": [
    {
     "data": {
      "text/plain": [
       "(array([8, 2, 5, 7, 6, 1, 0, 3, 4]), 94622)"
      ]
     },
     "execution_count": 16,
     "metadata": {},
     "output_type": "execute_result"
    }
   ],
   "source": [
    "Cost = 100000000\n",
    "for i in range(1000):\n",
    "    currentSolution, currentCost = bestImprovement(qap_cost_9, qap_distances_9)    \n",
    "    if currentCost < Cost:\n",
    "        Solution, Cost = currentSolution, currentCost\n",
    "Solution, Cost\n",
    "\n",
    "# Best solution founded: 94622\n",
    "# Best solution: 94622"
   ]
  },
  {
   "cell_type": "markdown",
   "id": "1225d117-ad74-481d-b431-8d804db87620",
   "metadata": {},
   "source": [
    "We use a smaller loop, and we can find out that this algorithm is slower than the first improvement one, but this has better results."
   ]
  },
  {
   "cell_type": "code",
   "execution_count": 63,
   "id": "16d7be36-fd93-4940-a544-742a9e8875cf",
   "metadata": {},
   "outputs": [
    {
     "data": {
      "text/plain": [
       "(array([ 3, 27, 11, 18, 22,  6, 29,  4, 24,  1, 25, 21, 12, 17,  9, 33,  0,\n",
       "         5, 13, 28,  2, 26, 34, 15, 32,  7, 16, 30, 20, 14, 19, 23, 10, 31,\n",
       "         8]),\n",
       " 2614798)"
      ]
     },
     "execution_count": 63,
     "metadata": {},
     "output_type": "execute_result"
    }
   ],
   "source": [
    "Cost = 100000000\n",
    "for i in range(20):\n",
    "    currentSolution, currentCost = bestImprovement(qap_cost_35, qap_distances_35)    \n",
    "    if currentCost < Cost:\n",
    "        Solution, Cost = currentSolution, currentCost\n",
    "np.array(Solution).T, Cost \n",
    "\n",
    "# Best solution founded: 2503074\n",
    "# Best solution: 2422002"
   ]
  },
  {
   "cell_type": "markdown",
   "id": "27d04e09-7c6f-460d-9471-9aebc4cfb2d8",
   "metadata": {},
   "source": [
    "Here, we have also an algorithm with low computational execution time, so we can use a loop to reach a best solution.\n",
    "\n",
    "## Tabu Search\n",
    "\n",
    "**Tabu Search** is an advanced optimization algorithm that builds on the concept of exploring the solution space iteratively while maintaining a list of prohibited moves, known as the \"tabu list\". This mechanism helps avoid revisiting previously explored solutions (thus preventing loops) and encourages diversity in the search process, which ultimately leads to more effective exploration of the solution space.\n",
    "\n",
    "### How It Works\n",
    "\n",
    "1. **Initialization**:\n",
    "   - The algorithm starts with an initial solution, which can be generated randomly or using another method.\n",
    "   - A tabu list is initialized to store recently visited solutions, and a best solution is tracked throughout the search.\n",
    "\n",
    "2. **Exploration of Neighbors**:\n",
    "   - In each iteration, the algorithm generates a set of neighboring solutions.\n",
    "   - It examines each neighbor and checks if it is in the tabu list (i.e., if it has been visited before). If a neighbor is not in the tabu list, it is considered for further evaluation.\n",
    "   \n",
    "3. **Selection of the Best Neighbor**:\n",
    "   - Among all valid neighbors (those not in the tabu list), the best one is selected based on the cost (the one with the lowest cost).\n",
    "   \n",
    "4. **Tabu List Management**:\n",
    "   - The selected neighbor is then added to the tabu list to prevent revisiting it in future iterations.\n",
    "   - The size of the tabu list is managed by removing the oldest solutions once the list exceeds the specified size.\n",
    "   \n",
    "5. **Updating the Best Solution**:\n",
    "   - If the newly selected neighbor is better than the current best solution (i.e., it has a lower cost), it is stored as the new best solution.\n",
    "   \n",
    "6. **Termination**:\n",
    "   - The process repeats for a specified number of iterations, or until a stopping condition (such as a set number of iterations) is met."
   ]
  },
  {
   "cell_type": "code",
   "execution_count": null,
   "id": "3592ffe8-f607-4557-b2d6-ba6851553469",
   "metadata": {},
   "outputs": [],
   "source": [
    "def tabu_search(initial_solution, qap_cost, qap_distances, tabu_list_size, max_iterations):\n",
    "    \"\"\"\n",
    "        Perform Tabu Search to optimize the Quadratic Assignment Problem (QAP).\n",
    "\n",
    "        Parameters:\n",
    "        - initial_solution: List[int], the starting solution (a permutation of facilities).\n",
    "        - qap_cost: 2D list, the flow/cost matrix between facilities.\n",
    "        - qap_distances: 2D list, the distance matrix between locations.\n",
    "        - tabu_list_size: int, the maximum size of the tabu list.\n",
    "        - max_iterations: int, the maximum number of iterations to perform.\n",
    "\n",
    "        Returns:\n",
    "        - best_solution: List[int], the best solution found during the search.\n",
    "        - currentCost: float, the cost of the best solution.\n",
    "    \"\"\"\n",
    "    current_solution = np.copy(initial_solution)\n",
    "    best_solution = np.copy(initial_solution)\n",
    "    tabu_list = []\n",
    "    \n",
    "    for i in range(max_iterations):\n",
    "        neighbors = get_neighbors(current_solution)\n",
    "        best_neighbor = None\n",
    "        \n",
    "        for neighbor in neighbors:\n",
    "            if neighbor.tolist() not in tabu_list:\n",
    "                if best_neighbor is None or calculateCost(qap_cost, qap_distances, neighbor) < calculateCost(qap_cost, qap_distances, best_neighbor):\n",
    "                    best_neighbor = neighbor\n",
    "        \n",
    "        current_solution = best_neighbor\n",
    "        tabu_list.append(current_solution.tolist())\n",
    "        \n",
    "        if len(tabu_list) > tabu_list_size:\n",
    "            tabu_list.pop(0)\n",
    "        \n",
    "        if calculateCost(qap_cost, qap_distances, current_solution) < calculateCost(qap_cost, qap_distances, best_solution):\n",
    "            best_solution = current_solution\n",
    "            \n",
    "    currentCost = calculateCost(qap_cost, qap_distances, best_solution)\n",
    "    return best_solution, currentCost\n"
   ]
  },
  {
   "cell_type": "markdown",
   "id": "45bf6fe7-ef42-4663-812d-f9710f8da313",
   "metadata": {},
   "source": [
    "### Tabu Search: 9-Cities Problem\n",
    "\n",
    "We begin by applying the **Tabu Search** algorithm to the 9-cities problem, without the use of a loop. Despite this, the algorithm achieves good results with a tour length of **94622**, and it does so in a relatively fast manner. This showcases the efficiency of Tabu Search even in smaller problem instances.\n",
    "\n",
    "#### Algorithm Parameters\n",
    "\n",
    "We set the following parameters for the algorithm:\n",
    "\n",
    "- **Tabu List Size**: 5 (limits the size of the tabu list to store the most recent solutions).\n",
    "- **Max Iterations**: 1000 (maximum number of iterations for the search process)."
   ]
  },
  {
   "cell_type": "code",
   "execution_count": null,
   "id": "f7ccf2de-05e9-4294-961f-ebb8ab685d2c",
   "metadata": {},
   "outputs": [
    {
     "name": "stdout",
     "output_type": "stream",
     "text": [
      "Best route found:  [8 2 5 7 6 1 0 3 4]\n",
      "Best tour length:  94622\n"
     ]
    }
   ],
   "source": [
    "tabu_list_size = 5\n",
    "max_iterations = 1000\n",
    "\n",
    "# Generate a random initial solution\n",
    "initial_solution = randomSolution(qap_cost_9)\n",
    "\n",
    "# Apply the Tabu Search algorithm\n",
    "bestSolution, bestCost = tabu_search(initial_solution, qap_cost_9, qap_distances_9, tabu_list_size, max_iterations)\n",
    "\n",
    "# Output the best solution and its cost\n",
    "print(\"Best route found: \", bestSolution)\n",
    "print(\"Best tour length: \", bestCost)"
   ]
  },
  {
   "cell_type": "markdown",
   "id": "b875876e-5df3-4ff5-9381-a7a903273908",
   "metadata": {},
   "source": [
    "With the 35-cities case, we increase the tabu list size, so as it can find out new solutions. Although its hight computational execution time, it doesn,t reach the best solution."
   ]
  },
  {
   "cell_type": "code",
   "execution_count": 61,
   "id": "ed8245fd-9bc0-454c-9635-db3e28a04af8",
   "metadata": {},
   "outputs": [
    {
     "name": "stdout",
     "output_type": "stream",
     "text": [
      "Best route found:  [22 12  9 17  7 10  4 15  8 23  2 14 11 16 33 20 19 31 28 32  3  6  1 25\n",
      " 13 21 26 34  5  0 30 18 27 24 29]\n",
      "Best tour length:  2629144\n"
     ]
    }
   ],
   "source": [
    "tabu_list_size = 6\n",
    "max_iterations = 500\n",
    "\n",
    "initial_solution = randomSolution(qap_cost_35)\n",
    "bestSolution, bestCost =  tabu_search(initial_solution, qap_cost_35, qap_distances_35, tabu_list_size, max_iterations)   \n",
    "\n",
    "print(\"Best route found: \", bestSolution)\n",
    "print(\"Best tour length: \", bestCost)\n",
    "\n",
    "# Best solution founded: 2608596\n",
    "# Best solution: 2422002"
   ]
  },
  {
   "cell_type": "markdown",
   "id": "e218e3e8-f85a-4209-9cc3-b4e099e9e1ac",
   "metadata": {},
   "source": [
    "## Population Search\n",
    "\n",
    "Population search techniques, such as the **Ant Colony Algorithm** and the **Genetic Algorithm**, are widely used for solving combinatorial optimization problems like the **Quadratic Assignment Problem (QAP)**. These methods utilize a population of candidate solutions and evolve them over time to find better solutions. There are many variants and extensions of these algorithms that can be applied to QAP, depending on the specific problem requirements and constraints.\n",
    "\n",
    "In this implementation, we will focus on one of the population-based approaches, specifically the **Ant Colony Optimization (ACO)** algorithm, which is based on the behavior of ants exploring the solution space.\n",
    "\n",
    "### ANTS (Ant Colony Optimization)\n",
    "\n",
    "In the context of population search for QAP, the **Ant Colony Algorithm** leverages the behavior of ants, which are able to explore the solution space, discover promising solutions, and progressively improve the quality of the solutions through interaction with their environment. Ants communicate via pheromones, which are deposited on the paths they take. Over time, paths with more pheromones become more attractive to other ants, leading to the discovery of better solutions.\n",
    "\n",
    "The first step in implementing ACO for QAP is to create an **Ant** class. This class will include methods that allow each ant to simulate its behavior, such as exploring possible solutions, updating pheromones, and constructing solutions.\n",
    "\n",
    "### Ant Class Implementation\n",
    "\n",
    "The **Ant** class will include the following methods:\n",
    "\n",
    "1. **Initialization**: Each ant needs to be initialized with a set of parameters, such as its starting position, pheromone levels, and other necessary attributes.\n",
    "2. **Exploration**: Ants will explore the solution space by moving through different possible assignments of cities, evaluating the cost at each step.\n",
    "3. **Pheromone Update**: After completing its path, the ant will deposit pheromones on the cities it visited to guide future ants.\n",
    "4. **Solution Construction**: The ant constructs a solution based on the state of the pheromone trail and possibly other local search mechanisms."
   ]
  },
  {
   "cell_type": "code",
   "execution_count": null,
   "id": "3efd4bae-f8ba-486f-b800-213708c4f70a",
   "metadata": {},
   "outputs": [],
   "source": [
    "class Ant:\n",
    "    \"\"\"\n",
    "    Ant Class\n",
    "\n",
    "    This class represents an individual ant in the Ant Colony Optimization algorithm. Each ant is responsible for constructing a solution to the Quadratic Assignment Problem (QAP) by exploring the solution space and depositing pheromones based on the quality of the solution.\n",
    "\n",
    "    Methods:\n",
    "    - __init__: Initializes the ant with the QAP cost and distance matrices.\n",
    "    - _pick_next_facility: Selects the next facility to visit based on pheromone levels and heuristic information.\n",
    "    - find_solution: Constructs a complete solution by visiting all facilities and calculates the total cost of the solution.\n",
    "    \"\"\"\n",
    "    def __init__(self, qap_cost, qap_distances):\n",
    "        self.qap_cost = qap_cost\n",
    "        self.qap_distances = qap_distances\n",
    "        self.facilities = []\n",
    "        self.tour_cost = 0.0\n",
    "\n",
    "    def _pick_next_facility(self, remaining_facilities, pheromone_matrix):\n",
    "        current_facility = self.facilities[-1]\n",
    "        probabilities = []\n",
    "\n",
    "        for facility in remaining_facilities:\n",
    "            pheromone = pheromone_matrix[current_facility][facility]\n",
    "            distance = self.qap_distances[current_facility][facility]\n",
    "            cost = self.qap_cost[current_facility][facility]\n",
    "            if distance == 0 or cost == 0:\n",
    "                probabilities.append(0)\n",
    "            else:\n",
    "                probabilities.append(pheromone * (1.0 / (distance * cost)))\n",
    "\n",
    "        probabilities_sum = sum(probabilities)\n",
    "        \n",
    "        if probabilities_sum == 0:\n",
    "            probabilities = [1 / len(remaining_facilities)] * len(remaining_facilities)\n",
    "        else:\n",
    "            probabilities = [prob / probabilities_sum for prob in probabilities]\n",
    "            \n",
    "        next_facility_index = np.random.randint(len(remaining_facilities))\n",
    "        next_facility = remaining_facilities[next_facility_index]\n",
    "        return next_facility\n",
    "\n",
    "    def find_solution(self, start_facility, pheromone_matrix):\n",
    "        self.facilities = [start_facility]\n",
    "        remaining_facilities = [i for i in range(len(self.qap_cost)) if i != start_facility]\n",
    "\n",
    "        while remaining_facilities:\n",
    "            next_facility = self._pick_next_facility(remaining_facilities, pheromone_matrix)\n",
    "            self.facilities.append(next_facility)\n",
    "            remaining_facilities.remove(next_facility)\n",
    "\n",
    "        self.tour_cost = calculateCost(self.qap_cost, self.qap_distances, self.facilities)"
   ]
  },
  {
   "cell_type": "markdown",
   "id": "f1462720-2c7b-4a9d-91ee-32964de27908",
   "metadata": {},
   "source": [
    "Once we have created the class and its methods, we define a function to run this algorithm."
   ]
  },
  {
   "cell_type": "code",
   "execution_count": null,
   "id": "5d7a1ba5-fa4d-4ff8-8390-0cca298da4f4",
   "metadata": {},
   "outputs": [],
   "source": [
    "def ant_colony_optimization(qap_cost, qap_distances, num_ants, num_iterations, evaporation_rate):\n",
    "    \"\"\"\n",
    "    Ant Colony Optimization (ACO) for the Quadratic Assignment Problem (QAP).\n",
    "\n",
    "    Parameters:\n",
    "    - qap_cost: 2D list (cost matrix), representing the flow between facilities.\n",
    "    - qap_distances: 2D list (distance matrix), representing the distances between locations.\n",
    "    - num_ants: int, the number of ants in the colony.\n",
    "    - num_iterations: int, the number of iterations to perform.\n",
    "    - evaporation_rate: float, the rate at which pheromones evaporate (0 < evaporation_rate < 1).\n",
    "\n",
    "    Returns:\n",
    "    - best_solution: List[int], the best solution (tour) found by the ants.\n",
    "    - best_solution_cost: float, the cost of the best solution.\n",
    "    \"\"\"\n",
    "    num_facilities = len(qap_cost)\n",
    "    pheromone_matrix = np.ones((num_facilities, num_facilities))  # Initial pheromone levels\n",
    "    best_solution = []\n",
    "    best_solution_cost = float(\"inf\")\n",
    "\n",
    "    for _ in range(num_iterations):\n",
    "        # Create the ants\n",
    "        ants = [Ant(qap_cost, qap_distances, pheromone_matrix) for _ in range(num_ants)]\n",
    "\n",
    "        # Each ant constructs a solution\n",
    "        for ant in ants:\n",
    "            start_facility = random.randint(0, num_facilities - 1)  # Random starting facility\n",
    "            ant.construct_solution(start_facility)  # Construct solution\n",
    "\n",
    "            # Update the best solution found\n",
    "            if ant.cost < best_solution_cost:\n",
    "                best_solution_cost = ant.cost\n",
    "                best_solution = ant.tour  # Update the best solution\n",
    "\n",
    "        # Update pheromones\n",
    "        for ant in ants:\n",
    "            for i in range(num_facilities - 1):\n",
    "                facility_i = ant.tour[i]\n",
    "                facility_j = ant.tour[i + 1]\n",
    "                pheromone_matrix[facility_i][facility_j] += 1.0 / ant.cost\n",
    "                pheromone_matrix[facility_j][facility_i] += 1.0 / ant.cost\n",
    "\n",
    "            # Loop back to the starting facility\n",
    "            facility_i = ant.tour[-1]\n",
    "            facility_j = ant.tour[0]\n",
    "            pheromone_matrix[facility_i][facility_j] += 1.0 / ant.cost\n",
    "            pheromone_matrix[facility_j][facility_i] += 1.0 / ant.cost\n",
    "\n",
    "        # Apply pheromone evaporation\n",
    "        pheromone_matrix *= (1.0 - evaporation_rate)\n",
    "\n",
    "    return best_solution, best_solution_cost"
   ]
  },
  {
   "cell_type": "markdown",
   "id": "38a011d4-e5e0-48d7-b539-0162b18b7bf7",
   "metadata": {},
   "source": [
    "First, we prove it with the 9 cities problem, and we obtain the best possible result."
   ]
  },
  {
   "cell_type": "code",
   "execution_count": 49,
   "id": "3d78dfb2-7e70-4c4d-9c98-cf58fa56449e",
   "metadata": {},
   "outputs": [
    {
     "name": "stdout",
     "output_type": "stream",
     "text": [
      "Best route found:  [8, 2, 5, 7, 6, 1, 0, 3, 4]\n",
      "Best tour length:  94622\n"
     ]
    }
   ],
   "source": [
    "num_ants = 50\n",
    "num_iterations = 1000\n",
    "evaporation_rate = 0.1\n",
    "\n",
    "best_route, best_tour_length = ant_colony_optimization(qap_cost_9, qap_distances_9, num_ants, num_iterations, evaporation_rate)\n",
    "\n",
    "print(\"Best route found: \", best_route)\n",
    "print(\"Best tour length: \", best_tour_length)\n",
    "\n",
    "# Best solution founded: 94622\n",
    "# Best solution: 94622"
   ]
  },
  {
   "cell_type": "markdown",
   "id": "d0840dbc",
   "metadata": {},
   "source": [
    "Now, we test it with different parameters."
   ]
  },
  {
   "cell_type": "code",
   "execution_count": 62,
   "id": "205c688e-3528-49b5-b41a-9db64ad0c03e",
   "metadata": {},
   "outputs": [
    {
     "name": "stdout",
     "output_type": "stream",
     "text": [
      "Best route found:  [17, 23, 16, 10, 13, 30, 21, 33, 9, 20, 19, 11, 24, 7, 29, 22, 15, 32, 31, 8, 28, 34, 26, 12, 27, 25, 1, 14, 6, 2, 4, 18, 5, 0, 3]\n",
      "Best tour length:  2758798\n"
     ]
    }
   ],
   "source": [
    "num_ants = 50\n",
    "num_iterations = 500\n",
    "evaporation_rate = 0.1\n",
    "\n",
    "best_route, best_tour_length = ant_colony_optimization(qap_cost_35, qap_distances_35, num_ants, num_iterations, evaporation_rate)\n",
    "\n",
    "print(\"Best route found: \", best_route)\n",
    "print(\"Best tour length: \", best_tour_length)\n",
    "\n",
    "# Best solution founded: 2758798\n",
    "# Best solution: 2422002"
   ]
  },
  {
   "cell_type": "markdown",
   "id": "5755aca8-6e47-4cfa-8dd3-9a5d5e7886e0",
   "metadata": {},
   "source": [
    "## Evolution λ μ (Evolutionary Algorithm)\n",
    "\n",
    "The **Evolution λ μ** algorithm is a population-based search strategy used to solve combinatorial optimization problems like the **Quadratic Assignment Problem (QAP)**. It is based on evolutionary principles and operates through a process of **selection**, **crossover (or recombination)**, **mutation**, and **replacement**. The algorithm is designed to improve a population of solutions over multiple generations, progressively refining the solutions towards better results.\n",
    "\n",
    "In the Evolution λ μ approach:\n",
    "- **λ (lambda)** represents the number of offspring (new solutions) generated in each generation.\n",
    "- **μ (mu)** represents the number of parents selected to produce the offspring.\n",
    "\n",
    "### Key Concepts in Evolution λ μ\n",
    "\n",
    "1. **Selection**: A subset of the current population is selected as parents based on fitness, i.e., how good their solutions are. The selection process favors the selection of better solutions while maintaining some diversity.\n",
    "  \n",
    "2. **Crossover (Recombination)**: Two selected parents combine their features to create offspring. This is similar to how biological organisms inherit traits from both parents.\n",
    "   \n",
    "3. **Mutation**: Some offspring undergo random changes to introduce variability. This helps the algorithm escape local optima and explore a wider range of possible solutions.\n",
    "\n",
    "4. **Replacement**: The newly generated offspring replace a portion of the current population, depending on the specific replacement strategy. The goal is to progressively improve the population over time.\n",
    "\n",
    "### Evolution λ μ Algorithm\n",
    "\n",
    "The basic idea is to start with a population of random solutions, evaluate them, and apply selection, crossover, and mutation to create a new generation of solutions. Over multiple generations, the population improves, ultimately converging to a high-quality solution for the QAP.\n",
    "\n",
    "### Defining Variables for the Problem\n",
    "\n",
    "Before implementing the algorithm, we first define the variables for the problem."
   ]
  },
  {
   "cell_type": "code",
   "execution_count": null,
   "id": "5f773fbf-e02e-4d07-b61a-fa6d2492043e",
   "metadata": {},
   "outputs": [],
   "source": [
    "mu = 5 # number of parents\n",
    "lambd = 150  # number of offspring\n",
    "num_generations = 5000 # number of generations"
   ]
  },
  {
   "cell_type": "markdown",
   "id": "34006783-6b6b-4001-83bc-76d31d80db08",
   "metadata": {},
   "source": [
    "We have to define a mutation function, that receive a route and creverse the order of the nodes between indices i and k."
   ]
  },
  {
   "cell_type": "code",
   "execution_count": 27,
   "id": "f9fce345-7c4c-44ab-a070-5ab35b57a611",
   "metadata": {},
   "outputs": [],
   "source": [
    "def mutation(route):\n",
    "    \"\"\"\n",
    "    Perform a 2-opt swap on the given route by reversing the\n",
    "    order of the nodes between indices i and k (inclusive).\n",
    "    \"\"\"\n",
    "    route_list = list(route)\n",
    "    i, k = np.random.randint(0, len(route), size = 2)\n",
    "    if i > k:\n",
    "        i, k = k, i\n",
    "        \n",
    "    new_route = route_list[:i] + route_list[i:k+1][::-1] + route_list[k+1:]\n",
    "    return new_route"
   ]
  },
  {
   "cell_type": "markdown",
   "id": "33ba54b5-274e-48c6-baf8-30f48bdb8307",
   "metadata": {},
   "source": [
    "Here is the function that calculate the optimum, that only needs the two matrix and the previous defining of the variables mu, lambd and number of generations (num_generations)."
   ]
  },
  {
   "cell_type": "code",
   "execution_count": null,
   "id": "226f0cf3-21e4-4813-9b2a-4e8aad440490",
   "metadata": {},
   "outputs": [],
   "source": [
    "def calculate_optim(qap_cost, qap_distances):\n",
    "    \"\"\"\n",
    "        Perform the Evolution λ μ algorithm to optimize the Quadratic Assignment Problem (QAP).\n",
    "\n",
    "        Parameters:\n",
    "        - qap_cost: 2D list (cost matrix), representing the flow between facilities.\n",
    "        - qap_distances: 2D list (distance matrix), representing the distances between locations.\n",
    "\n",
    "        Returns:\n",
    "        - Best: List[int], the best solution found during the optimization process.\n",
    "        - best_cost: float, the cost of the best solution.\n",
    "    \"\"\"\n",
    "    Best = []\n",
    "    P = np.array([randomSolution(qap_cost) for i in range(lambd)])\n",
    "\n",
    "    for generation in range(num_generations):\n",
    "        child_costs = []\n",
    "\n",
    "        for child in P:\n",
    "            child_cost = calculateCost(qap_cost, qap_distances, child)\n",
    "            child_costs.append(child_cost)\n",
    "\n",
    "            if len(Best) == 0 or child_cost < calculateCost(qap_cost, qap_distances, Best):\n",
    "                Best = child\n",
    "\n",
    "        # Order the costs and extract the indexes\n",
    "        tuple_costs = [(value, index) for index, value in enumerate(child_costs)]\n",
    "        tuple_costs_ordered = sorted(tuple_costs, key=lambda x: x[0])\n",
    "        indexes = [index for value, index in tuple_costs_ordered]\n",
    "\n",
    "        # Select the best mu individuals\n",
    "        Q = P[indexes[:mu]]\n",
    "\n",
    "        # Create the new generation\n",
    "        P = np.empty((lambd, len(qap_cost)), dtype=int)\n",
    "        aux = 0\n",
    "        for i in range(mu):\n",
    "            for j in range(lambd // mu):\n",
    "                child = np.copy(Q[i])\n",
    "                child = mutation(child)\n",
    "                P[aux] = child\n",
    "                aux += 1\n",
    "\n",
    "    best_cost = calculateCost(qap_cost, qap_distances, Best)\n",
    "    \n",
    "    return Best, best_cost"
   ]
  },
  {
   "cell_type": "markdown",
   "id": "51ae2966-643f-4874-a750-933f7b049164",
   "metadata": {},
   "source": [
    "We prove the algorithm with the 9 and 35 cities problem."
   ]
  },
  {
   "cell_type": "code",
   "execution_count": 35,
   "id": "01acd890-235e-4984-aefb-6201d791b406",
   "metadata": {},
   "outputs": [
    {
     "name": "stdout",
     "output_type": "stream",
     "text": [
      "Best: [3 5 2 8 7 0 4 6 1]\n",
      "Best Final cost: 109912\n"
     ]
    }
   ],
   "source": [
    "Best, best_cost = calculate_optim(qap_cost_9, qap_distances_9)\n",
    "print(\"Best:\", Best)\n",
    "print(\"Best Final cost:\", best_cost)\n",
    "\n",
    "# Best solution founded: 96963\n",
    "# Best solution: 94622"
   ]
  },
  {
   "cell_type": "code",
   "execution_count": 36,
   "id": "4cc2db25-834b-4147-af16-2696b18c3aa4",
   "metadata": {},
   "outputs": [
    {
     "name": "stdout",
     "output_type": "stream",
     "text": [
      "Best: [ 2  4 20 17  0 13 33 12 27 31 26  6 29  5 16  1 10 24 28 15  3 34 18 25\n",
      " 14 11  9  8 22 32 21 30 19 23  7]\n",
      "Best Final cost: 2545412\n"
     ]
    }
   ],
   "source": [
    "Best, best_cost = calculate_optim(qap_cost_35, qap_distances_35)\n",
    "print(\"Best:\", Best)\n",
    "print(\"Best Final cost:\", best_cost)\n",
    "\n",
    "# Best solution founded: 2545412\n",
    "# Best solution: 2422002"
   ]
  },
  {
   "cell_type": "markdown",
   "id": "30ee35a9-a755-4747-b9da-606085888f74",
   "metadata": {},
   "source": [
    "## Summary\n",
    "\n",
    "- **First Improvement**:\n",
    "\n",
    "    - **Advantages**:\n",
    "        - Efficient in time, since it looks for and applies the first movement that improves the current solution.\n",
    "        - You can quickly find acceptable solutions to problems with large search spaces.\n",
    "        - Because of its time execution, we can reach a great solution using a loop.\n",
    "        \n",
    "    - **Disadvantages**:\n",
    "        - You can get stuck at local optima without exploring the solution space in depth.\n",
    "        - It does not guarantee finding the best overall solution.  \n",
    "    \n",
    "\n",
    "---\n",
    "\n",
    "- **Best Improvement**:\n",
    "\n",
    "    - **Advantages**:\n",
    "        - Examines and selects the best available move in each iteration, which can lead to a more extensive search.\n",
    "        - It has a better chance of finding better solutions than the First Improvement algorithm.\n",
    "        - Because of its time execution, we can reach a great solution using a loop.\n",
    "        \n",
    "    - **Disadvantages**:\n",
    "        - It can still suffer from stagnation at local optima.\n",
    "    \n",
    "\n",
    "---\n",
    "\n",
    "- **Tabu Search**:\n",
    "\n",
    "    - **Advantages**:\n",
    "        - It avoids stagnation at local optima by using a tabu list that prohibits previous moves.\n",
    "        - Promotes diversity of solutions by exploring different neighborhoods and movements.\n",
    "        - You can find better quality solutions and get progressively better over time.\n",
    "        \n",
    "    - **Disadvantages**:\n",
    "        - It requires a mechanism to manage and update the tabu list, which can add complexity to the implementation.\n",
    "        - Requires longer execution time due to testing multiple neighborhoods, especially in the 35-cities case.\n",
    "    \n",
    "\n",
    "---\n",
    "\n",
    "- **Ants (Ant Colony Optimization)**:\n",
    "\n",
    "    - **Advantages**:\n",
    "        - Utilizes the ability of ants to explore the solution space and find promising solutions.\n",
    "        - Combines local and global information using pheromones to guide the search.\n",
    "        - Can find high-quality solutions and adapt to changes in the environment.\n",
    "        \n",
    "    - **Disadvantages**:\n",
    "        - It requires careful adjustment of parameters, such as the amount of pheromones and heuristic influence, to obtain good results.\n",
    "        - May require a longer execution time due to the iterative construction of solutions by the ants.\n",
    "    \n",
    "\n",
    "---\n",
    "\n",
    "- **Mu Lambda Evolution**:\n",
    "\n",
    "    - **Advantages**:\n",
    "        - Uses a population-based evolution strategy to find high-quality solutions.\n",
    "        - Combines selection, crossing, and mutation to generate new solutions and progressively improve the quality of the population.\n",
    "        - Can find high-quality or optimal solutions and adapt to different problems.\n",
    "        \n",
    "    - **Disadvantages**:\n",
    "        - Requires proper adjustment of parameters, such as the size of the λ and μ groups, to obtain a balance between exploration and exploitation.\n",
    "        - Requires longer run time due to handling and testing of entire populations, especially in the 35-cities case.\n"
   ]
  }
 ],
 "metadata": {
  "kernelspec": {
   "display_name": "Python 3 (ipykernel)",
   "language": "python",
   "name": "python3"
  },
  "language_info": {
   "codemirror_mode": {
    "name": "ipython",
    "version": 3
   },
   "file_extension": ".py",
   "mimetype": "text/x-python",
   "name": "python",
   "nbconvert_exporter": "python",
   "pygments_lexer": "ipython3",
   "version": "3.10.6"
  }
 },
 "nbformat": 4,
 "nbformat_minor": 5
}
